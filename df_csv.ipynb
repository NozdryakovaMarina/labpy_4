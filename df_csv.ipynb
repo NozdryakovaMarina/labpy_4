{
 "cells": [
  {
   "cell_type": "code",
   "execution_count": 25,
   "metadata": {},
   "outputs": [],
   "source": [
    "import cv2\n",
    "\n",
    "import pandas as pd \n",
    "import matplotlib.pyplot as plt\n",
    "import numpy as np"
   ]
  },
  {
   "cell_type": "code",
   "execution_count": 32,
   "metadata": {},
   "outputs": [
    {
     "name": "stdout",
     "output_type": "stream",
     "text": [
      "                                          Absolute path  Class name\n",
      "0     C:\\Users\\nozdr\\Desktop\\DP\\DataProcessing\\datas...  polar_bear\n",
      "1     C:\\Users\\nozdr\\Desktop\\DP\\DataProcessing\\datas...  polar_bear\n",
      "2     C:\\Users\\nozdr\\Desktop\\DP\\DataProcessing\\datas...  polar_bear\n",
      "3     C:\\Users\\nozdr\\Desktop\\DP\\DataProcessing\\datas...  polar_bear\n",
      "4     C:\\Users\\nozdr\\Desktop\\DP\\DataProcessing\\datas...  polar_bear\n",
      "...                                                 ...         ...\n",
      "2197  C:\\Users\\nozdr\\Desktop\\DP\\DataProcessing\\datas...  brown_bear\n",
      "2198  C:\\Users\\nozdr\\Desktop\\DP\\DataProcessing\\datas...  brown_bear\n",
      "2199  C:\\Users\\nozdr\\Desktop\\DP\\DataProcessing\\datas...  brown_bear\n",
      "2200  C:\\Users\\nozdr\\Desktop\\DP\\DataProcessing\\datas...  brown_bear\n",
      "2201  C:\\Users\\nozdr\\Desktop\\DP\\DataProcessing\\datas...  brown_bear\n",
      "\n",
      "[2202 rows x 2 columns]\n"
     ]
    }
   ],
   "source": [
    "df = pd.read_csv('annotation.csv')\n",
    "df_new = df.iloc[:, [0, 2]]\n",
    "\n",
    "print(df_new)"
   ]
  },
  {
   "cell_type": "code",
   "execution_count": 33,
   "metadata": {},
   "outputs": [
    {
     "name": "stdout",
     "output_type": "stream",
     "text": [
      "                                                absPath   className\n",
      "0     C:\\Users\\nozdr\\Desktop\\DP\\DataProcessing\\datas...  polar_bear\n",
      "1     C:\\Users\\nozdr\\Desktop\\DP\\DataProcessing\\datas...  polar_bear\n",
      "2     C:\\Users\\nozdr\\Desktop\\DP\\DataProcessing\\datas...  polar_bear\n",
      "3     C:\\Users\\nozdr\\Desktop\\DP\\DataProcessing\\datas...  polar_bear\n",
      "4     C:\\Users\\nozdr\\Desktop\\DP\\DataProcessing\\datas...  polar_bear\n",
      "...                                                 ...         ...\n",
      "2197  C:\\Users\\nozdr\\Desktop\\DP\\DataProcessing\\datas...  brown_bear\n",
      "2198  C:\\Users\\nozdr\\Desktop\\DP\\DataProcessing\\datas...  brown_bear\n",
      "2199  C:\\Users\\nozdr\\Desktop\\DP\\DataProcessing\\datas...  brown_bear\n",
      "2200  C:\\Users\\nozdr\\Desktop\\DP\\DataProcessing\\datas...  brown_bear\n",
      "2201  C:\\Users\\nozdr\\Desktop\\DP\\DataProcessing\\datas...  brown_bear\n",
      "\n",
      "[2202 rows x 2 columns]\n"
     ]
    },
    {
     "name": "stderr",
     "output_type": "stream",
     "text": [
      "C:\\Users\\nozdr\\AppData\\Local\\Temp\\ipykernel_12012\\1777109374.py:1: SettingWithCopyWarning: \n",
      "A value is trying to be set on a copy of a slice from a DataFrame\n",
      "\n",
      "See the caveats in the documentation: https://pandas.pydata.org/pandas-docs/stable/user_guide/indexing.html#returning-a-view-versus-a-copy\n",
      "  df_new.rename( columns={'Absolute path':'absPath', 'Class name':'className'}, inplace=True)\n"
     ]
    }
   ],
   "source": [
    "df_new.rename( columns={'Absolute path':'absPath', 'Class name':'className'}, inplace=True)\n",
    "\n",
    "print(df_new)"
   ]
  },
  {
   "cell_type": "code",
   "execution_count": 34,
   "metadata": {},
   "outputs": [
    {
     "name": "stdout",
     "output_type": "stream",
     "text": [
      "                                                absPath   className mark\n",
      "0     C:\\Users\\nozdr\\Desktop\\DP\\DataProcessing\\datas...  polar_bear    0\n",
      "1     C:\\Users\\nozdr\\Desktop\\DP\\DataProcessing\\datas...  polar_bear    0\n",
      "2     C:\\Users\\nozdr\\Desktop\\DP\\DataProcessing\\datas...  polar_bear    0\n",
      "3     C:\\Users\\nozdr\\Desktop\\DP\\DataProcessing\\datas...  polar_bear    0\n",
      "4     C:\\Users\\nozdr\\Desktop\\DP\\DataProcessing\\datas...  polar_bear    0\n",
      "...                                                 ...         ...  ...\n",
      "2197  C:\\Users\\nozdr\\Desktop\\DP\\DataProcessing\\datas...  brown_bear    1\n",
      "2198  C:\\Users\\nozdr\\Desktop\\DP\\DataProcessing\\datas...  brown_bear    1\n",
      "2199  C:\\Users\\nozdr\\Desktop\\DP\\DataProcessing\\datas...  brown_bear    1\n",
      "2200  C:\\Users\\nozdr\\Desktop\\DP\\DataProcessing\\datas...  brown_bear    1\n",
      "2201  C:\\Users\\nozdr\\Desktop\\DP\\DataProcessing\\datas...  brown_bear    1\n",
      "\n",
      "[2202 rows x 3 columns]\n"
     ]
    }
   ],
   "source": [
    "labels = {'polar_bear': '0', 'brown_bear': '1'}\n",
    "df_new['mark'] = df_new['className'].map(labels)\n",
    "\n",
    "print(df_new)"
   ]
  },
  {
   "cell_type": "code",
   "execution_count": 36,
   "metadata": {},
   "outputs": [],
   "source": [
    "df_new['height'] = df_new['absPath'].apply(lambda path: cv2.imread(path).shape[0])"
   ]
  },
  {
   "cell_type": "code",
   "execution_count": 37,
   "metadata": {},
   "outputs": [],
   "source": [
    "df_new['width'] = df_new['absPath'].apply(lambda path: cv2.imread(path).shape[1])"
   ]
  },
  {
   "cell_type": "code",
   "execution_count": 38,
   "metadata": {},
   "outputs": [],
   "source": [
    "df_new['depth'] = df_new['absPath'].apply(lambda path: cv2.imread(path).shape[2])"
   ]
  },
  {
   "cell_type": "code",
   "execution_count": 39,
   "metadata": {},
   "outputs": [
    {
     "name": "stdout",
     "output_type": "stream",
     "text": [
      "                                                absPath   className mark  \\\n",
      "0     C:\\Users\\nozdr\\Desktop\\DP\\DataProcessing\\datas...  polar_bear    0   \n",
      "1     C:\\Users\\nozdr\\Desktop\\DP\\DataProcessing\\datas...  polar_bear    0   \n",
      "2     C:\\Users\\nozdr\\Desktop\\DP\\DataProcessing\\datas...  polar_bear    0   \n",
      "3     C:\\Users\\nozdr\\Desktop\\DP\\DataProcessing\\datas...  polar_bear    0   \n",
      "4     C:\\Users\\nozdr\\Desktop\\DP\\DataProcessing\\datas...  polar_bear    0   \n",
      "...                                                 ...         ...  ...   \n",
      "2197  C:\\Users\\nozdr\\Desktop\\DP\\DataProcessing\\datas...  brown_bear    1   \n",
      "2198  C:\\Users\\nozdr\\Desktop\\DP\\DataProcessing\\datas...  brown_bear    1   \n",
      "2199  C:\\Users\\nozdr\\Desktop\\DP\\DataProcessing\\datas...  brown_bear    1   \n",
      "2200  C:\\Users\\nozdr\\Desktop\\DP\\DataProcessing\\datas...  brown_bear    1   \n",
      "2201  C:\\Users\\nozdr\\Desktop\\DP\\DataProcessing\\datas...  brown_bear    1   \n",
      "\n",
      "      height  width  depth  \n",
      "0        305    480      3  \n",
      "1        320    480      3  \n",
      "2        300    480      3  \n",
      "3        319    480      3  \n",
      "4        320    480      3  \n",
      "...      ...    ...    ...  \n",
      "2197     801   1200      3  \n",
      "2198     682   1024      3  \n",
      "2199     960   1280      3  \n",
      "2200    1414   2121      3  \n",
      "2201     800   1200      3  \n",
      "\n",
      "[2202 rows x 6 columns]\n"
     ]
    }
   ],
   "source": [
    "print(df_new)"
   ]
  },
  {
   "cell_type": "code",
   "execution_count": 44,
   "metadata": {},
   "outputs": [
    {
     "data": {
      "text/plain": [
       "count    2202.000000\n",
       "mean      821.698002\n",
       "std       548.033245\n",
       "min       210.000000\n",
       "25%       320.000000\n",
       "50%       764.500000\n",
       "75%      1200.000000\n",
       "max      3000.000000\n",
       "Name: height, dtype: float64"
      ]
     },
     "execution_count": 44,
     "metadata": {},
     "output_type": "execute_result"
    }
   ],
   "source": [
    "df_new['height'].describe()"
   ]
  },
  {
   "cell_type": "code",
   "execution_count": 45,
   "metadata": {},
   "outputs": [
    {
     "data": {
      "text/plain": [
       "count    2202.000000\n",
       "mean     1156.919619\n",
       "std       791.521250\n",
       "min       180.000000\n",
       "25%       480.000000\n",
       "50%       960.000000\n",
       "75%      1920.000000\n",
       "max      3000.000000\n",
       "Name: width, dtype: float64"
      ]
     },
     "execution_count": 45,
     "metadata": {},
     "output_type": "execute_result"
    }
   ],
   "source": [
    "df_new['width'].describe()"
   ]
  },
  {
   "cell_type": "code",
   "execution_count": 46,
   "metadata": {},
   "outputs": [
    {
     "data": {
      "text/plain": [
       "count    2202.0\n",
       "mean        3.0\n",
       "std         0.0\n",
       "min         3.0\n",
       "25%         3.0\n",
       "50%         3.0\n",
       "75%         3.0\n",
       "max         3.0\n",
       "Name: depth, dtype: float64"
      ]
     },
     "execution_count": 46,
     "metadata": {},
     "output_type": "execute_result"
    }
   ],
   "source": [
    "df_new['depth'].describe()"
   ]
  },
  {
   "cell_type": "code",
   "execution_count": 47,
   "metadata": {},
   "outputs": [
    {
     "data": {
      "text/plain": [
       "count     2202\n",
       "unique       2\n",
       "top          0\n",
       "freq      1101\n",
       "Name: mark, dtype: object"
      ]
     },
     "execution_count": 47,
     "metadata": {},
     "output_type": "execute_result"
    }
   ],
   "source": [
    "df_new['mark'].describe()"
   ]
  },
  {
   "cell_type": "code",
   "execution_count": 53,
   "metadata": {},
   "outputs": [
    {
     "name": "stdout",
     "output_type": "stream",
     "text": [
      "Empty DataFrame\n",
      "Columns: [absPath, className, mark, height, width, depth]\n",
      "Index: []\n"
     ]
    }
   ],
   "source": [
    "def filtered_df(df_new: pd.DataFrame, mark: int) -> pd.DataFrame:\n",
    "    df_new= df_new[df_new.mark == mark]\n",
    "    return df_new\n",
    "\n",
    "print(filtered_df(df_new, 1))\n"
   ]
  }
 ],
 "metadata": {
  "kernelspec": {
   "display_name": "Python 3",
   "language": "python",
   "name": "python3"
  },
  "language_info": {
   "codemirror_mode": {
    "name": "ipython",
    "version": 3
   },
   "file_extension": ".py",
   "mimetype": "text/x-python",
   "name": "python",
   "nbconvert_exporter": "python",
   "pygments_lexer": "ipython3",
   "version": "3.8.10"
  }
 },
 "nbformat": 4,
 "nbformat_minor": 2
}
